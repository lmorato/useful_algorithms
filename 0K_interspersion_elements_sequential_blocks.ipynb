{
 "cells": [
  {
   "cell_type": "markdown",
   "metadata": {},
   "source": [
    "- list contains two sequential blocks of related elements:\n",
    "1) first one with elements ending in '_min';\n",
    "2) second one with elements ending in '_max';\n",
    "\n",
    "- info:\n",
    "elements of each block are not sorted in alphabetical order, e.g., 'hp_min' comes before 'armor_min', etc.\n",
    "\n",
    "- requirements:\n",
    "1) order of elements before sufixes '_min' and '_max' have to stay the same (do not sort alphabeticaly);\n",
    "2) final list should intersperse elements from first and second blocks"
   ]
  },
  {
   "cell_type": "code",
   "execution_count": 1,
   "metadata": {},
   "outputs": [
    {
     "name": "stdout",
     "output_type": "stream",
     "text": [
      "['hp_min', 'hp_max', 'mp_min', 'mp_max', 'movespeed_min', 'movespeed_max', 'armor_min', 'armor_max', 'spellblock_min', 'spellblock_max', 'attackrange_min', 'attackrange_max', 'hpregen_min', 'hpregen_max', 'mpregen_min', 'mpregen_max', 'crit_min', 'crit_max', 'attackdamage_min', 'attackdamage_max', 'attackspeed_min', 'attackspeed_max']\n"
     ]
    }
   ],
   "source": [
    "original_list = ['hp_min', 'mp_min', 'movespeed_min', 'armor_min', 'spellblock_min', 'attackrange_min', 'hpregen_min', 'mpregen_min', 'crit_min', 'attackdamage_min', 'attackspeed_min', 'hp_max', 'mp_max', 'movespeed_max', 'armor_max', 'spellblock_max', 'attackrange_max', 'hpregen_max', 'mpregen_max', 'crit_max', 'attackdamage_max', 'attackspeed_max']\n",
    "\n",
    "min_block = [elem for elem in original_list if elem.endswith('_min')]\n",
    "max_block = [elem for elem in original_list if elem.endswith('_max')]\n",
    "\n",
    "result_list = []\n",
    "for min_elem, max_elem in zip(min_block, max_block):\n",
    "    result_list.append(min_elem)\n",
    "    result_list.append(max_elem)\n",
    "\n",
    "print(result_list)"
   ]
  }
 ],
 "metadata": {
  "kernelspec": {
   "display_name": "Python 3",
   "language": "python",
   "name": "python3"
  },
  "language_info": {
   "codemirror_mode": {
    "name": "ipython",
    "version": 3
   },
   "file_extension": ".py",
   "mimetype": "text/x-python",
   "name": "python",
   "nbconvert_exporter": "python",
   "pygments_lexer": "ipython3",
   "version": "3.11.4"
  },
  "orig_nbformat": 4
 },
 "nbformat": 4,
 "nbformat_minor": 2
}
